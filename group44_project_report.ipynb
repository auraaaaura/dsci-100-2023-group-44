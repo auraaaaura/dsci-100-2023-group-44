{
 "cells": [
  {
   "cell_type": "markdown",
   "id": "f95d3751-951f-4ff1-8c14-e8e894ace7b0",
   "metadata": {},
   "source": [
    "# **Classifying coronary artery disease using age, and blood cholesterol, and maximum heart rate.**\n",
    "## **Group Report**\n",
    "\n",
    "#### Zirun Xu, Aura Balita, and Sahil Babani"
   ]
  },
  {
   "cell_type": "markdown",
   "id": "f28b11c6-69ca-4b11-bd45-152e6bbd54e5",
   "metadata": {},
   "source": [
    "## Introduction\n",
    "Coronary artery disease (CAD) is a cardiovascular condition caused by the accumulation of plaque in the coronary arteries, which are responsible for delivering blood to the heart. This plaque buildup gradually narrows the arteries, leading to reduced blood flow to the heart. CAD can lead to abnormal heart rhythms, heart attacks, and heart failure (Cleveland Clinic, n.d.). \n",
    "\n",
    "Four factors that increase the likelihood of heart disease are age, blood pressure, blood cholesterol levels and maximum heart rate. Individuals aged 65 and older are more likely to develop CAD due to the buildup of plaque over the years (National Institute on Aging, n.d.), while elevated blood pressure and high blood cholesterol levels are indicative of narrowed blood vessels due to plaque accumulation (Centers for Disease Control and Prevention, n.d.). Lastly, the max heart rate achieved during exercise testing is typically indicative of how well the heart is functioning. A high maximum heart rate usually means a healthier heart, while a lower one can signify a less healthy heart.).\n",
    "\n",
    "This project aims to determine whether it is possible to predict the likelihood of an individual having heart disease based on their age, blood pressure, blood cholesterol, and maximum heart rate and to determine which variable pairs would best give the best predictions, using the Cleveland database. These variables were selected because analyzing other variables would demand a more in-depth understanding of the subject.\n",
    "\n",
    "This database was constructed by gathering clinical test results from patients with chest pain symptoms at the Cleveland Clinic in Cleveland, Ohio database (Detrano, et al., 89)."
   ]
  },
  {
   "cell_type": "markdown",
   "id": "faec952f-1f4f-41b7-b6f9-c94bc20f7e3e",
   "metadata": {},
   "source": [
    "## Methods & Results\n",
    "\n",
    "(Explain dataset that will be used)\\\n",
    "(Copy and paste variables)\\\n",
    "(Describe the methods and approaches used to collect data)\n",
    "* Explain data collection techniques\n",
    "* Explain analytical techinques"
   ]
  },
  {
   "cell_type": "markdown",
   "id": "9e547a29-7a54-4d1b-97ae-a347731db0ef",
   "metadata": {},
   "source": [
    "### Loading the file and exploring the data\n",
    "The first step is to load the `tidyverse` and `tidymodels` packages that will be used for the analysis of our data."
   ]
  },
  {
   "cell_type": "code",
   "execution_count": 1,
   "id": "70f4f4a5-6160-484a-838b-6e503a1dc54a",
   "metadata": {
    "scrolled": true
   },
   "outputs": [
    {
     "name": "stderr",
     "output_type": "stream",
     "text": [
      "── \u001b[1mAttaching core tidyverse packages\u001b[22m ──────────────────────── tidyverse 2.0.0 ──\n",
      "\u001b[32m✔\u001b[39m \u001b[34mdplyr    \u001b[39m 1.1.2     \u001b[32m✔\u001b[39m \u001b[34mreadr    \u001b[39m 2.1.4\n",
      "\u001b[32m✔\u001b[39m \u001b[34mforcats  \u001b[39m 1.0.0     \u001b[32m✔\u001b[39m \u001b[34mstringr  \u001b[39m 1.5.0\n",
      "\u001b[32m✔\u001b[39m \u001b[34mggplot2  \u001b[39m 3.4.4     \u001b[32m✔\u001b[39m \u001b[34mtibble   \u001b[39m 3.2.1\n",
      "\u001b[32m✔\u001b[39m \u001b[34mlubridate\u001b[39m 1.9.2     \u001b[32m✔\u001b[39m \u001b[34mtidyr    \u001b[39m 1.3.0\n",
      "\u001b[32m✔\u001b[39m \u001b[34mpurrr    \u001b[39m 1.0.2     \n",
      "── \u001b[1mConflicts\u001b[22m ────────────────────────────────────────── tidyverse_conflicts() ──\n",
      "\u001b[31m✖\u001b[39m \u001b[34mdplyr\u001b[39m::\u001b[32mfilter()\u001b[39m masks \u001b[34mstats\u001b[39m::filter()\n",
      "\u001b[31m✖\u001b[39m \u001b[34mdplyr\u001b[39m::\u001b[32mlag()\u001b[39m    masks \u001b[34mstats\u001b[39m::lag()\n",
      "\u001b[36mℹ\u001b[39m Use the conflicted package (\u001b[3m\u001b[34m<http://conflicted.r-lib.org/>\u001b[39m\u001b[23m) to force all conflicts to become errors\n",
      "── \u001b[1mAttaching packages\u001b[22m ────────────────────────────────────── tidymodels 1.1.1 ──\n",
      "\n",
      "\u001b[32m✔\u001b[39m \u001b[34mbroom       \u001b[39m 1.0.5     \u001b[32m✔\u001b[39m \u001b[34mrsample     \u001b[39m 1.2.0\n",
      "\u001b[32m✔\u001b[39m \u001b[34mdials       \u001b[39m 1.2.0     \u001b[32m✔\u001b[39m \u001b[34mtune        \u001b[39m 1.1.2\n",
      "\u001b[32m✔\u001b[39m \u001b[34minfer       \u001b[39m 1.0.5     \u001b[32m✔\u001b[39m \u001b[34mworkflows   \u001b[39m 1.1.3\n",
      "\u001b[32m✔\u001b[39m \u001b[34mmodeldata   \u001b[39m 1.2.0     \u001b[32m✔\u001b[39m \u001b[34mworkflowsets\u001b[39m 1.0.1\n",
      "\u001b[32m✔\u001b[39m \u001b[34mparsnip     \u001b[39m 1.1.1     \u001b[32m✔\u001b[39m \u001b[34myardstick   \u001b[39m 1.2.0\n",
      "\u001b[32m✔\u001b[39m \u001b[34mrecipes     \u001b[39m 1.0.8     \n",
      "\n",
      "── \u001b[1mConflicts\u001b[22m ───────────────────────────────────────── tidymodels_conflicts() ──\n",
      "\u001b[31m✖\u001b[39m \u001b[34mscales\u001b[39m::\u001b[32mdiscard()\u001b[39m masks \u001b[34mpurrr\u001b[39m::discard()\n",
      "\u001b[31m✖\u001b[39m \u001b[34mdplyr\u001b[39m::\u001b[32mfilter()\u001b[39m   masks \u001b[34mstats\u001b[39m::filter()\n",
      "\u001b[31m✖\u001b[39m \u001b[34mrecipes\u001b[39m::\u001b[32mfixed()\u001b[39m  masks \u001b[34mstringr\u001b[39m::fixed()\n",
      "\u001b[31m✖\u001b[39m \u001b[34mdplyr\u001b[39m::\u001b[32mlag()\u001b[39m      masks \u001b[34mstats\u001b[39m::lag()\n",
      "\u001b[31m✖\u001b[39m \u001b[34myardstick\u001b[39m::\u001b[32mspec()\u001b[39m masks \u001b[34mreadr\u001b[39m::spec()\n",
      "\u001b[31m✖\u001b[39m \u001b[34mrecipes\u001b[39m::\u001b[32mstep()\u001b[39m   masks \u001b[34mstats\u001b[39m::step()\n",
      "\u001b[34m•\u001b[39m Use suppressPackageStartupMessages() to eliminate package startup messages\n",
      "\n",
      "Installing package into ‘/home/jupyter/R/x86_64-pc-linux-gnu-library/4.3’\n",
      "(as ‘lib’ is unspecified)\n",
      "\n",
      "\n",
      "Attaching package: ‘shiny’\n",
      "\n",
      "\n",
      "The following object is masked from ‘package:infer’:\n",
      "\n",
      "    observe\n",
      "\n",
      "\n"
     ]
    }
   ],
   "source": [
    "# Importing packages\n",
    "library(tidyverse)\n",
    "library(tidymodels)\n",
    "install.packages(\"shiny\")\n",
    "library(shiny)"
   ]
  },
  {
   "cell_type": "markdown",
   "id": "1a468baf-bfd0-4b2f-81ea-16e8bf456689",
   "metadata": {},
   "source": [
    "Our heart disease dataset is a `.csv` file with no headers. The `read_csv` function will be used to load the data, and headers will be added using the `colnames()` function. The headers come from the source. The data will then be inspected."
   ]
  },
  {
   "cell_type": "code",
   "execution_count": 2,
   "id": "0115698e-faf2-4b83-a3a8-34540c30ff2c",
   "metadata": {},
   "outputs": [
    {
     "name": "stderr",
     "output_type": "stream",
     "text": [
      "\u001b[1m\u001b[22mNew names:\n",
      "\u001b[36m•\u001b[39m `1.0` -> `1.0...2`\n",
      "\u001b[36m•\u001b[39m `1.0` -> `1.0...3`\n",
      "\u001b[36m•\u001b[39m `1.0` -> `1.0...6`\n",
      "\u001b[36m•\u001b[39m `0.0` -> `0.0...9`\n",
      "\u001b[36m•\u001b[39m `0.0` -> `0.0...12`\n",
      "\u001b[1mRows: \u001b[22m\u001b[34m302\u001b[39m \u001b[1mColumns: \u001b[22m\u001b[34m14\u001b[39m\n",
      "\u001b[36m──\u001b[39m \u001b[1mColumn specification\u001b[22m \u001b[36m────────────────────────────────────────────────────────\u001b[39m\n",
      "\u001b[1mDelimiter:\u001b[22m \",\"\n",
      "\u001b[31mchr\u001b[39m  (2): 0.0...12, 6.0\n",
      "\u001b[32mdbl\u001b[39m (12): 63.0, 1.0...2, 1.0...3, 145.0, 233.0, 1.0...6, 2.0, 150.0, 0.0...9...\n",
      "\n",
      "\u001b[36mℹ\u001b[39m Use `spec()` to retrieve the full column specification for this data.\n",
      "\u001b[36mℹ\u001b[39m Specify the column types or set `show_col_types = FALSE` to quiet this message.\n"
     ]
    },
    {
     "data": {
      "text/html": [
       "<table class=\"dataframe\">\n",
       "<caption>A tibble: 6 × 14</caption>\n",
       "<thead>\n",
       "\t<tr><th scope=col>age</th><th scope=col>sex</th><th scope=col>cp</th><th scope=col>trestbps</th><th scope=col>chol</th><th scope=col>fbs</th><th scope=col>restecg</th><th scope=col>thalach</th><th scope=col>exang</th><th scope=col>oldpeak</th><th scope=col>slope</th><th scope=col>ca</th><th scope=col>thal</th><th scope=col>num</th></tr>\n",
       "\t<tr><th scope=col>&lt;dbl&gt;</th><th scope=col>&lt;dbl&gt;</th><th scope=col>&lt;dbl&gt;</th><th scope=col>&lt;dbl&gt;</th><th scope=col>&lt;dbl&gt;</th><th scope=col>&lt;dbl&gt;</th><th scope=col>&lt;dbl&gt;</th><th scope=col>&lt;dbl&gt;</th><th scope=col>&lt;dbl&gt;</th><th scope=col>&lt;dbl&gt;</th><th scope=col>&lt;dbl&gt;</th><th scope=col>&lt;chr&gt;</th><th scope=col>&lt;chr&gt;</th><th scope=col>&lt;dbl&gt;</th></tr>\n",
       "</thead>\n",
       "<tbody>\n",
       "\t<tr><td>67</td><td>1</td><td>4</td><td>160</td><td>286</td><td>0</td><td>2</td><td>108</td><td>1</td><td>1.5</td><td>2</td><td>3.0</td><td>3.0</td><td>2</td></tr>\n",
       "\t<tr><td>67</td><td>1</td><td>4</td><td>120</td><td>229</td><td>0</td><td>2</td><td>129</td><td>1</td><td>2.6</td><td>2</td><td>2.0</td><td>7.0</td><td>1</td></tr>\n",
       "\t<tr><td>37</td><td>1</td><td>3</td><td>130</td><td>250</td><td>0</td><td>0</td><td>187</td><td>0</td><td>3.5</td><td>3</td><td>0.0</td><td>3.0</td><td>0</td></tr>\n",
       "\t<tr><td>41</td><td>0</td><td>2</td><td>130</td><td>204</td><td>0</td><td>2</td><td>172</td><td>0</td><td>1.4</td><td>1</td><td>0.0</td><td>3.0</td><td>0</td></tr>\n",
       "\t<tr><td>56</td><td>1</td><td>2</td><td>120</td><td>236</td><td>0</td><td>0</td><td>178</td><td>0</td><td>0.8</td><td>1</td><td>0.0</td><td>3.0</td><td>0</td></tr>\n",
       "\t<tr><td>62</td><td>0</td><td>4</td><td>140</td><td>268</td><td>0</td><td>2</td><td>160</td><td>0</td><td>3.6</td><td>3</td><td>2.0</td><td>3.0</td><td>3</td></tr>\n",
       "</tbody>\n",
       "</table>\n"
      ],
      "text/latex": [
       "A tibble: 6 × 14\n",
       "\\begin{tabular}{llllllllllllll}\n",
       " age & sex & cp & trestbps & chol & fbs & restecg & thalach & exang & oldpeak & slope & ca & thal & num\\\\\n",
       " <dbl> & <dbl> & <dbl> & <dbl> & <dbl> & <dbl> & <dbl> & <dbl> & <dbl> & <dbl> & <dbl> & <chr> & <chr> & <dbl>\\\\\n",
       "\\hline\n",
       "\t 67 & 1 & 4 & 160 & 286 & 0 & 2 & 108 & 1 & 1.5 & 2 & 3.0 & 3.0 & 2\\\\\n",
       "\t 67 & 1 & 4 & 120 & 229 & 0 & 2 & 129 & 1 & 2.6 & 2 & 2.0 & 7.0 & 1\\\\\n",
       "\t 37 & 1 & 3 & 130 & 250 & 0 & 0 & 187 & 0 & 3.5 & 3 & 0.0 & 3.0 & 0\\\\\n",
       "\t 41 & 0 & 2 & 130 & 204 & 0 & 2 & 172 & 0 & 1.4 & 1 & 0.0 & 3.0 & 0\\\\\n",
       "\t 56 & 1 & 2 & 120 & 236 & 0 & 0 & 178 & 0 & 0.8 & 1 & 0.0 & 3.0 & 0\\\\\n",
       "\t 62 & 0 & 4 & 140 & 268 & 0 & 2 & 160 & 0 & 3.6 & 3 & 2.0 & 3.0 & 3\\\\\n",
       "\\end{tabular}\n"
      ],
      "text/markdown": [
       "\n",
       "A tibble: 6 × 14\n",
       "\n",
       "| age &lt;dbl&gt; | sex &lt;dbl&gt; | cp &lt;dbl&gt; | trestbps &lt;dbl&gt; | chol &lt;dbl&gt; | fbs &lt;dbl&gt; | restecg &lt;dbl&gt; | thalach &lt;dbl&gt; | exang &lt;dbl&gt; | oldpeak &lt;dbl&gt; | slope &lt;dbl&gt; | ca &lt;chr&gt; | thal &lt;chr&gt; | num &lt;dbl&gt; |\n",
       "|---|---|---|---|---|---|---|---|---|---|---|---|---|---|\n",
       "| 67 | 1 | 4 | 160 | 286 | 0 | 2 | 108 | 1 | 1.5 | 2 | 3.0 | 3.0 | 2 |\n",
       "| 67 | 1 | 4 | 120 | 229 | 0 | 2 | 129 | 1 | 2.6 | 2 | 2.0 | 7.0 | 1 |\n",
       "| 37 | 1 | 3 | 130 | 250 | 0 | 0 | 187 | 0 | 3.5 | 3 | 0.0 | 3.0 | 0 |\n",
       "| 41 | 0 | 2 | 130 | 204 | 0 | 2 | 172 | 0 | 1.4 | 1 | 0.0 | 3.0 | 0 |\n",
       "| 56 | 1 | 2 | 120 | 236 | 0 | 0 | 178 | 0 | 0.8 | 1 | 0.0 | 3.0 | 0 |\n",
       "| 62 | 0 | 4 | 140 | 268 | 0 | 2 | 160 | 0 | 3.6 | 3 | 2.0 | 3.0 | 3 |\n",
       "\n"
      ],
      "text/plain": [
       "  age sex cp trestbps chol fbs restecg thalach exang oldpeak slope ca  thal num\n",
       "1 67  1   4  160      286  0   2       108     1     1.5     2     3.0 3.0  2  \n",
       "2 67  1   4  120      229  0   2       129     1     2.6     2     2.0 7.0  1  \n",
       "3 37  1   3  130      250  0   0       187     0     3.5     3     0.0 3.0  0  \n",
       "4 41  0   2  130      204  0   2       172     0     1.4     1     0.0 3.0  0  \n",
       "5 56  1   2  120      236  0   0       178     0     0.8     1     0.0 3.0  0  \n",
       "6 62  0   4  140      268  0   2       160     0     3.6     3     2.0 3.0  3  "
      ]
     },
     "metadata": {},
     "output_type": "display_data"
    }
   ],
   "source": [
    "# Loading and adding headers to the heart disease data\n",
    "heart_data <- read_csv(\"processed.cleveland.data\")\n",
    "colnames(heart_data) <- c(\"age\", \"sex\", \"cp\", \"trestbps\", \"chol\", \"fbs\", \"restecg\", \n",
    "                     \"thalach\", \"exang\", \"oldpeak\", \"slope\", \"ca\", \"thal\", \"num\")\n",
    "head(heart_data)"
   ]
  },
  {
   "cell_type": "markdown",
   "id": "1e0cba98-ea28-49e9-9abf-8ba73cd747f9",
   "metadata": {},
   "source": [
    "### Describing the variables in the heart disease data set\n",
    "\n",
    "Patients experiencing chest pain symptoms, also known as angina, often have a higher probability of being diagnosed with heart disease and are often recommended for coronary angiography. An angiogram involves using x-ray imaging to examine the blood vessels in a person's heart. Its purpose is to assess the condition of these vessels and the circulation of blood within them. At the Cleveland Clinic, 303 patients undergoing coronary angiography had 14 different variables measured.\n",
    "\n",
    "The information gathered included four clinical details: age, sex, type of chest pain, and systolic blood pressure. Other tests included drawing blood to measure cholesterol levels and blood sugar, electrocardiograms, in which the electrical activity of the heart is measured, thallium scans, in which a radioactive tracer is used to see how much blood is reaching different parts of your heart, and fluoroscopy for coronary calcium, which is a procedure used to look at calcium in the heart's blood vessels.\n",
    "\n",
    "These variables are described below:\n",
    "\n",
    "1. **age:** age in years\n",
    "2. **sex:** sex of the individual (1 = male; 0 = female)\n",
    "3. **cp:** chest pain type\n",
    "4. **trestbps:** resting blood pressure (in mm Hg on admission to the hospital)\n",
    "5. **chol:** serum cholesterol in mg/dl\n",
    "6. **fbs:** whether fasting blood sugar is greater than 120 mg/dl (1 = true; 0 = false)\n",
    "7. **restecg:** resting electrocardiographic results\n",
    "8. **thalach:** maximum heart rate achieved (in bpm)\n",
    "9. **exang:** exercise induced angina (1 = yes; 0 = no)\n",
    "10. **oldpeak:** ST depression induced by exercise relative to rest\n",
    "11. **slope:** the slope of the peak exercise ST segment\n",
    "12. **ca:** number of major vessels (0-3) colored by flourosopy\n",
    "13. **thal:** thalassemia\n",
    "14. **num:** diagnosis of heart disease (0 = not present; 1, 2, 3, 4 = present)\n"
   ]
  },
  {
   "cell_type": "markdown",
   "id": "a89872aa-a190-43c8-b855-d86bec380bbc",
   "metadata": {},
   "source": [
    "### Wrangling and cleaning the data\n",
    "When the database was inspected with the editor, it was found that there were missing values \"?\" in the table. Thus, the data was cleaned and wrangled into a tidy format by converting the missing data \"?\" into NA values, and then removing all missing values from the dataset using the `na.omit()` function."
   ]
  },
  {
   "cell_type": "code",
   "execution_count": 3,
   "id": "b67d0910-22bd-4e43-aef6-26acca620f51",
   "metadata": {},
   "outputs": [
    {
     "data": {
      "text/html": [
       "<table class=\"dataframe\">\n",
       "<caption>A tibble: 6 × 14</caption>\n",
       "<thead>\n",
       "\t<tr><th scope=col>age</th><th scope=col>sex</th><th scope=col>cp</th><th scope=col>trestbps</th><th scope=col>chol</th><th scope=col>fbs</th><th scope=col>restecg</th><th scope=col>thalach</th><th scope=col>exang</th><th scope=col>oldpeak</th><th scope=col>slope</th><th scope=col>ca</th><th scope=col>thal</th><th scope=col>num</th></tr>\n",
       "\t<tr><th scope=col>&lt;dbl&gt;</th><th scope=col>&lt;dbl&gt;</th><th scope=col>&lt;dbl&gt;</th><th scope=col>&lt;dbl&gt;</th><th scope=col>&lt;dbl&gt;</th><th scope=col>&lt;dbl&gt;</th><th scope=col>&lt;dbl&gt;</th><th scope=col>&lt;dbl&gt;</th><th scope=col>&lt;dbl&gt;</th><th scope=col>&lt;dbl&gt;</th><th scope=col>&lt;dbl&gt;</th><th scope=col>&lt;chr&gt;</th><th scope=col>&lt;chr&gt;</th><th scope=col>&lt;dbl&gt;</th></tr>\n",
       "</thead>\n",
       "<tbody>\n",
       "\t<tr><td>67</td><td>1</td><td>4</td><td>160</td><td>286</td><td>0</td><td>2</td><td>108</td><td>1</td><td>1.5</td><td>2</td><td>3.0</td><td>3.0</td><td>2</td></tr>\n",
       "\t<tr><td>67</td><td>1</td><td>4</td><td>120</td><td>229</td><td>0</td><td>2</td><td>129</td><td>1</td><td>2.6</td><td>2</td><td>2.0</td><td>7.0</td><td>1</td></tr>\n",
       "\t<tr><td>37</td><td>1</td><td>3</td><td>130</td><td>250</td><td>0</td><td>0</td><td>187</td><td>0</td><td>3.5</td><td>3</td><td>0.0</td><td>3.0</td><td>0</td></tr>\n",
       "\t<tr><td>41</td><td>0</td><td>2</td><td>130</td><td>204</td><td>0</td><td>2</td><td>172</td><td>0</td><td>1.4</td><td>1</td><td>0.0</td><td>3.0</td><td>0</td></tr>\n",
       "\t<tr><td>56</td><td>1</td><td>2</td><td>120</td><td>236</td><td>0</td><td>0</td><td>178</td><td>0</td><td>0.8</td><td>1</td><td>0.0</td><td>3.0</td><td>0</td></tr>\n",
       "\t<tr><td>62</td><td>0</td><td>4</td><td>140</td><td>268</td><td>0</td><td>2</td><td>160</td><td>0</td><td>3.6</td><td>3</td><td>2.0</td><td>3.0</td><td>3</td></tr>\n",
       "</tbody>\n",
       "</table>\n"
      ],
      "text/latex": [
       "A tibble: 6 × 14\n",
       "\\begin{tabular}{llllllllllllll}\n",
       " age & sex & cp & trestbps & chol & fbs & restecg & thalach & exang & oldpeak & slope & ca & thal & num\\\\\n",
       " <dbl> & <dbl> & <dbl> & <dbl> & <dbl> & <dbl> & <dbl> & <dbl> & <dbl> & <dbl> & <dbl> & <chr> & <chr> & <dbl>\\\\\n",
       "\\hline\n",
       "\t 67 & 1 & 4 & 160 & 286 & 0 & 2 & 108 & 1 & 1.5 & 2 & 3.0 & 3.0 & 2\\\\\n",
       "\t 67 & 1 & 4 & 120 & 229 & 0 & 2 & 129 & 1 & 2.6 & 2 & 2.0 & 7.0 & 1\\\\\n",
       "\t 37 & 1 & 3 & 130 & 250 & 0 & 0 & 187 & 0 & 3.5 & 3 & 0.0 & 3.0 & 0\\\\\n",
       "\t 41 & 0 & 2 & 130 & 204 & 0 & 2 & 172 & 0 & 1.4 & 1 & 0.0 & 3.0 & 0\\\\\n",
       "\t 56 & 1 & 2 & 120 & 236 & 0 & 0 & 178 & 0 & 0.8 & 1 & 0.0 & 3.0 & 0\\\\\n",
       "\t 62 & 0 & 4 & 140 & 268 & 0 & 2 & 160 & 0 & 3.6 & 3 & 2.0 & 3.0 & 3\\\\\n",
       "\\end{tabular}\n"
      ],
      "text/markdown": [
       "\n",
       "A tibble: 6 × 14\n",
       "\n",
       "| age &lt;dbl&gt; | sex &lt;dbl&gt; | cp &lt;dbl&gt; | trestbps &lt;dbl&gt; | chol &lt;dbl&gt; | fbs &lt;dbl&gt; | restecg &lt;dbl&gt; | thalach &lt;dbl&gt; | exang &lt;dbl&gt; | oldpeak &lt;dbl&gt; | slope &lt;dbl&gt; | ca &lt;chr&gt; | thal &lt;chr&gt; | num &lt;dbl&gt; |\n",
       "|---|---|---|---|---|---|---|---|---|---|---|---|---|---|\n",
       "| 67 | 1 | 4 | 160 | 286 | 0 | 2 | 108 | 1 | 1.5 | 2 | 3.0 | 3.0 | 2 |\n",
       "| 67 | 1 | 4 | 120 | 229 | 0 | 2 | 129 | 1 | 2.6 | 2 | 2.0 | 7.0 | 1 |\n",
       "| 37 | 1 | 3 | 130 | 250 | 0 | 0 | 187 | 0 | 3.5 | 3 | 0.0 | 3.0 | 0 |\n",
       "| 41 | 0 | 2 | 130 | 204 | 0 | 2 | 172 | 0 | 1.4 | 1 | 0.0 | 3.0 | 0 |\n",
       "| 56 | 1 | 2 | 120 | 236 | 0 | 0 | 178 | 0 | 0.8 | 1 | 0.0 | 3.0 | 0 |\n",
       "| 62 | 0 | 4 | 140 | 268 | 0 | 2 | 160 | 0 | 3.6 | 3 | 2.0 | 3.0 | 3 |\n",
       "\n"
      ],
      "text/plain": [
       "  age sex cp trestbps chol fbs restecg thalach exang oldpeak slope ca  thal num\n",
       "1 67  1   4  160      286  0   2       108     1     1.5     2     3.0 3.0  2  \n",
       "2 67  1   4  120      229  0   2       129     1     2.6     2     2.0 7.0  1  \n",
       "3 37  1   3  130      250  0   0       187     0     3.5     3     0.0 3.0  0  \n",
       "4 41  0   2  130      204  0   2       172     0     1.4     1     0.0 3.0  0  \n",
       "5 56  1   2  120      236  0   0       178     0     0.8     1     0.0 3.0  0  \n",
       "6 62  0   4  140      268  0   2       160     0     3.6     3     2.0 3.0  3  "
      ]
     },
     "metadata": {},
     "output_type": "display_data"
    }
   ],
   "source": [
    "# Converting \"?\" in cells into \"NA\"\n",
    "heart_data[heart_data == \"?\"] <- NA\n",
    "\n",
    "# Removing missing values\n",
    "heart_data <- na.omit(heart_data)\n",
    "head(heart_data)"
   ]
  },
  {
   "cell_type": "markdown",
   "id": "452f9768-85bc-4402-ad5f-feaf9a63f675",
   "metadata": {},
   "source": [
    "The variable **num** indicates the diagnosis of the heart disease, with 0 meaning heart disease is not present, and 1, 2, 3, and 4 meaning that heart disease is present. However, this is too confusing. Thus, we will use `mutate()`, `as.factor()`, and `case_when()` to make things more readable. For the case that num = 0, no heart disease occurs, and the disease observation will say \"No\". For the case that num = 1, 2, 3, 4, heart disease is present, and the disease observation will say \"Yes\". \n",
    "\n",
    "To make things more readable, the following variables will be renamed using `colnames()`:\n",
    "* **trestbps** to **rest_bp**\n",
    "* **thalach** to **max_heart**\n",
    "* **num** to **disease**.\n",
    "\n",
    "As mentioned in the introduction, we will only be using age, blood pressure, blood cholesterol, maximum heart rate, and the final diagnosis for our analysis. Thus, we will create a new tibble using these five variables using `select()`. The new tibble will be renamed `heart`."
   ]
  },
  {
   "cell_type": "code",
   "execution_count": 4,
   "id": "7aca8071-6a89-476b-a490-b08da907c408",
   "metadata": {},
   "outputs": [
    {
     "data": {
      "text/html": [
       "<table class=\"dataframe\">\n",
       "<caption>A tibble: 6 × 5</caption>\n",
       "<thead>\n",
       "\t<tr><th scope=col>age</th><th scope=col>rest_bp</th><th scope=col>chol</th><th scope=col>max_heart</th><th scope=col>disease</th></tr>\n",
       "\t<tr><th scope=col>&lt;dbl&gt;</th><th scope=col>&lt;dbl&gt;</th><th scope=col>&lt;dbl&gt;</th><th scope=col>&lt;dbl&gt;</th><th scope=col>&lt;fct&gt;</th></tr>\n",
       "</thead>\n",
       "<tbody>\n",
       "\t<tr><td>67</td><td>160</td><td>286</td><td>108</td><td>Yes</td></tr>\n",
       "\t<tr><td>67</td><td>120</td><td>229</td><td>129</td><td>Yes</td></tr>\n",
       "\t<tr><td>37</td><td>130</td><td>250</td><td>187</td><td>No </td></tr>\n",
       "\t<tr><td>41</td><td>130</td><td>204</td><td>172</td><td>No </td></tr>\n",
       "\t<tr><td>56</td><td>120</td><td>236</td><td>178</td><td>No </td></tr>\n",
       "\t<tr><td>62</td><td>140</td><td>268</td><td>160</td><td>Yes</td></tr>\n",
       "</tbody>\n",
       "</table>\n"
      ],
      "text/latex": [
       "A tibble: 6 × 5\n",
       "\\begin{tabular}{lllll}\n",
       " age & rest\\_bp & chol & max\\_heart & disease\\\\\n",
       " <dbl> & <dbl> & <dbl> & <dbl> & <fct>\\\\\n",
       "\\hline\n",
       "\t 67 & 160 & 286 & 108 & Yes\\\\\n",
       "\t 67 & 120 & 229 & 129 & Yes\\\\\n",
       "\t 37 & 130 & 250 & 187 & No \\\\\n",
       "\t 41 & 130 & 204 & 172 & No \\\\\n",
       "\t 56 & 120 & 236 & 178 & No \\\\\n",
       "\t 62 & 140 & 268 & 160 & Yes\\\\\n",
       "\\end{tabular}\n"
      ],
      "text/markdown": [
       "\n",
       "A tibble: 6 × 5\n",
       "\n",
       "| age &lt;dbl&gt; | rest_bp &lt;dbl&gt; | chol &lt;dbl&gt; | max_heart &lt;dbl&gt; | disease &lt;fct&gt; |\n",
       "|---|---|---|---|---|\n",
       "| 67 | 160 | 286 | 108 | Yes |\n",
       "| 67 | 120 | 229 | 129 | Yes |\n",
       "| 37 | 130 | 250 | 187 | No  |\n",
       "| 41 | 130 | 204 | 172 | No  |\n",
       "| 56 | 120 | 236 | 178 | No  |\n",
       "| 62 | 140 | 268 | 160 | Yes |\n",
       "\n"
      ],
      "text/plain": [
       "  age rest_bp chol max_heart disease\n",
       "1 67  160     286  108       Yes    \n",
       "2 67  120     229  129       Yes    \n",
       "3 37  130     250  187       No     \n",
       "4 41  130     204  172       No     \n",
       "5 56  120     236  178       No     \n",
       "6 62  140     268  160       Yes    "
      ]
     },
     "metadata": {},
     "output_type": "display_data"
    }
   ],
   "source": [
    "# Selecting and renaming column names\n",
    "heart <- heart_data |>\n",
    "    select(age, trestbps, chol, thalach, num)\n",
    "\n",
    "colnames(heart) <- c(\"age\", \"rest_bp\", \"chol\", \"max_heart\", \"disease\")\n",
    "\n",
    "# Converting integer values to \"Yes\" or \"No\"\n",
    "heart <- heart |>\n",
    "    mutate(disease = as.factor(case_when(disease > 0 ~ \"Yes\", disease ==  0 ~ \"No\")))\n",
    "\n",
    "head(heart)"
   ]
  },
  {
   "cell_type": "markdown",
   "id": "9d612b59-ac6e-4ebe-888f-27e8417e58d1",
   "metadata": {},
   "source": [
    "\n",
    "\n"
   ]
  },
  {
   "cell_type": "markdown",
   "id": "90a2487a-9907-46e1-917f-65bc517aed2f",
   "metadata": {},
   "source": [
    "### Summary of the data\n",
    "\n",
    "The next step is to perform a summary of the dataset using `group_by()`, `summarize()`, and `n()` to find the number and percentage of disease and no disease observations in our dataset. After, the percentage in each group is found by dividing the total number of observations and multiplying by 100.\n",
    "\n",
    "There are 137 (46%) disease observations and 159 (54%) no disease observations."
   ]
  },
  {
   "cell_type": "code",
   "execution_count": 5,
   "id": "d1007f20-bc4e-4fea-a9eb-ea24733f6329",
   "metadata": {},
   "outputs": [
    {
     "data": {
      "text/html": [
       "<table class=\"dataframe\">\n",
       "<caption>A tibble: 2 × 3</caption>\n",
       "<thead>\n",
       "\t<tr><th scope=col>disease</th><th scope=col>count</th><th scope=col>percentage</th></tr>\n",
       "\t<tr><th scope=col>&lt;fct&gt;</th><th scope=col>&lt;int&gt;</th><th scope=col>&lt;dbl&gt;</th></tr>\n",
       "</thead>\n",
       "<tbody>\n",
       "\t<tr><td>No </td><td>159</td><td>53.71622</td></tr>\n",
       "\t<tr><td>Yes</td><td>137</td><td>46.28378</td></tr>\n",
       "</tbody>\n",
       "</table>\n"
      ],
      "text/latex": [
       "A tibble: 2 × 3\n",
       "\\begin{tabular}{lll}\n",
       " disease & count & percentage\\\\\n",
       " <fct> & <int> & <dbl>\\\\\n",
       "\\hline\n",
       "\t No  & 159 & 53.71622\\\\\n",
       "\t Yes & 137 & 46.28378\\\\\n",
       "\\end{tabular}\n"
      ],
      "text/markdown": [
       "\n",
       "A tibble: 2 × 3\n",
       "\n",
       "| disease &lt;fct&gt; | count &lt;int&gt; | percentage &lt;dbl&gt; |\n",
       "|---|---|---|\n",
       "| No  | 159 | 53.71622 |\n",
       "| Yes | 137 | 46.28378 |\n",
       "\n"
      ],
      "text/plain": [
       "  disease count percentage\n",
       "1 No      159   53.71622  \n",
       "2 Yes     137   46.28378  "
      ]
     },
     "metadata": {},
     "output_type": "display_data"
    }
   ],
   "source": [
    "num_obs <- nrow(heart)\n",
    "heart |>\n",
    "    group_by(disease) |>\n",
    "    summarize(\n",
    "        count = n(),\n",
    "        percentage = n() / num_obs *100\n",
    "        )"
   ]
  },
  {
   "cell_type": "markdown",
   "id": "bde58548-75ba-4d37-9ba3-b24effab8026",
   "metadata": {},
   "source": [
    "### Splitting the data\n",
    "\n",
    "(explain why it's important to split the data)"
   ]
  },
  {
   "cell_type": "code",
   "execution_count": 6,
   "id": "6f53fabc-6353-446b-b2d9-40c22f7a2423",
   "metadata": {},
   "outputs": [],
   "source": [
    "# add code here"
   ]
  },
  {
   "cell_type": "markdown",
   "id": "68eede38-bc88-4a1e-8674-1859b7c2d9c9",
   "metadata": {},
   "source": [
    "### Preliminary data visualization"
   ]
  },
  {
   "cell_type": "code",
   "execution_count": 7,
   "id": "7f1709df-b06e-4934-a048-3ab7820bbad7",
   "metadata": {},
   "outputs": [],
   "source": [
    "# create a visualization of the dataset that is relevant for exploratory data analysis related to the planned analysis"
   ]
  },
  {
   "cell_type": "markdown",
   "id": "4c0b1697-2e7a-41a1-a914-c1e9d419684e",
   "metadata": {},
   "source": [
    "### Determining the most suitable $k$ value"
   ]
  },
  {
   "cell_type": "code",
   "execution_count": 8,
   "id": "7d15ae4d-af8d-4943-bb80-73df63206402",
   "metadata": {},
   "outputs": [],
   "source": [
    "# add code here"
   ]
  },
  {
   "cell_type": "markdown",
   "id": "41b93577-d342-463e-b337-ca0779346a6a",
   "metadata": {},
   "source": [
    "### Plotting $k$ vs Accuracy"
   ]
  },
  {
   "cell_type": "code",
   "execution_count": 9,
   "id": "23f18b56-5651-40c7-9a98-4a16832a38f0",
   "metadata": {},
   "outputs": [],
   "source": [
    "# add code here"
   ]
  },
  {
   "cell_type": "markdown",
   "id": "015ae7ee-afea-4e5d-b1ad-4ebb430b56c2",
   "metadata": {},
   "source": [
    "(explain which k should be used based on plot)"
   ]
  },
  {
   "cell_type": "markdown",
   "id": "02e76e3c-ae17-4460-baad-c3ffa981235d",
   "metadata": {},
   "source": [
    "### Creating a $k$-NN classification model"
   ]
  },
  {
   "cell_type": "code",
   "execution_count": 10,
   "id": "360ebaed-61df-498b-8aae-83980d126e4d",
   "metadata": {},
   "outputs": [],
   "source": [
    "# add code here"
   ]
  },
  {
   "cell_type": "markdown",
   "id": "fdaa2ac9-5841-4a68-a457-cb917651ba2e",
   "metadata": {},
   "source": [
    "### Testing the model against another dataset"
   ]
  },
  {
   "cell_type": "code",
   "execution_count": 11,
   "id": "9cbf2b0d-3812-476a-9f03-726fc22ae026",
   "metadata": {},
   "outputs": [],
   "source": [
    "# add code here"
   ]
  },
  {
   "cell_type": "markdown",
   "id": "9fdaf39a-de0f-4714-a40f-80495d374b31",
   "metadata": {},
   "source": [
    "## Discussion\n",
    "- summarize what you found\n",
    "- discuss whether this is what you expected to find\n",
    "- discuss what impact could such findings have\n",
    "- discuss what future questions could this lead to"
   ]
  },
  {
   "cell_type": "markdown",
   "id": "a6a54636-46df-46e3-8b6d-f650dfb04c9e",
   "metadata": {
    "jp-MarkdownHeadingCollapsed": true
   },
   "source": [
    "## Conclusions"
   ]
  },
  {
   "cell_type": "markdown",
   "id": "cb2c3be5-48b5-4a3b-b1e7-3409be6c3734",
   "metadata": {},
   "source": [
    "## References"
   ]
  },
  {
   "cell_type": "markdown",
   "id": "7d85388e-4f12-4eae-88cf-64e801930992",
   "metadata": {},
   "source": [
    "* [Cleveland Clinic. “Coronary Artery Disease.”](my.clevelandclinic.org/health/diseases/16898-coronary-artery-disease)\n",
    "* [“Coronary Artery Disease.” Centers for Disease Control and Prevention](www.cdc.gov/heartdisease/coronary_ad.htm#:~:text=To%20find%20out%20your%20risk,about%20heart%20disease%20risk%20factors.) \n",
    "* [Detrano, et al. (1989). International application of a new probability algorithm for the diagnosis of coronary artery disease. The American journal of cardiology, 64 5, 304-10.](https://www.ajconline.org/article/0002-9149(89)90524-9/pdf)\n",
    "* [“Heart Health and Aging.” National Institute on Aging, U.S. Department of Health and Human Services](https://www.nia.nih.gov/health/heart-health/heart-health-and-aging#how)\n",
    "\n"
   ]
  },
  {
   "cell_type": "code",
   "execution_count": null,
   "id": "7dd8e3e9-2706-425d-9822-e93ce98d112c",
   "metadata": {},
   "outputs": [],
   "source": []
  }
 ],
 "metadata": {
  "kernelspec": {
   "display_name": "R",
   "language": "R",
   "name": "ir"
  },
  "language_info": {
   "codemirror_mode": "r",
   "file_extension": ".r",
   "mimetype": "text/x-r-source",
   "name": "R",
   "pygments_lexer": "r",
   "version": "4.3.0"
  }
 },
 "nbformat": 4,
 "nbformat_minor": 5
}

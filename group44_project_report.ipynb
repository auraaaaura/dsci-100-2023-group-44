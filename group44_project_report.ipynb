{
 "cells": [
  {
   "cell_type": "markdown",
   "id": "f95d3751-951f-4ff1-8c14-e8e894ace7b0",
   "metadata": {},
   "source": [
    "# **Classifying coronary artery disease using age, and blood cholesterol, and maximum heart rate.**\n",
    "## **Group Report**\n",
    "\n",
    "#### Zirun Xu, Aura Balita, and Sahil Babani"
   ]
  },
  {
   "cell_type": "markdown",
   "id": "f28b11c6-69ca-4b11-bd45-152e6bbd54e5",
   "metadata": {},
   "source": [
    "## Introduction\n",
    "Coronary artery disease (CAD) is a cardiovascular condition caused by the accumulation of plaque in the coronary arteries, which are responsible for delivering blood to the heart. This plaque buildup gradually narrows the arteries, leading to reduced blood flow to the heart. CAD can lead to abnormal heart rhythms, heart attacks, and heart failure (Cleveland Clinic, n.d.). Four factors that increase the likelihood of heart disease are maximum heart rate, blood pressure, and blood cholesterol levels. Individuals aged 65 and older are more likely to develop CAD due to the buildup of plaque over the years (National Institute on Aging, n.d.), while elevated blood pressure and high blood cholesterol levels are indicative of narrowed blood vessels due to plaque accumulation (Centers for Disease Control and Prevention, n.d.). Lastly, the max heart rate achieved during exercise testing is typically indicative of how well the heart is functioning. A high maximum heart rate usually means a healthier heart, while a lower one can signify a less healthy heart.).\n",
    "This project aims to determine whether it is possible to predict the likelihood of an individual having heart disease based on their age, blood pressure, blood cholesterol, and maximum heart rate and to determine which variable pairs would best give the best predictions, using the Cleveland database.\n",
    "This database was constructed by gathering clinical test results from patients with chest pain symptoms at the Cleveland Clinic in Cleveland, Ohio database (Detrano, et al., 89)."
   ]
  },
  {
   "cell_type": "markdown",
   "id": "faec952f-1f4f-41b7-b6f9-c94bc20f7e3e",
   "metadata": {},
   "source": [
    "## Methods & Results\n",
    "\n",
    "(Explain dataset that will be used)\\\n",
    "(Copy and paste variables)\\\n",
    "(Describe the methods and approaches used to collect data)\n",
    "* Explain data collection techniques\n",
    "* Explain analytical techinques"
   ]
  },
  {
   "cell_type": "markdown",
   "id": "9e547a29-7a54-4d1b-97ae-a347731db0ef",
   "metadata": {},
   "source": [
    "### Loading the file and exploring the data\n",
    "The first step is to load the `tidyverse` and `tidymodels` packages that will be used for the analysis of our data."
   ]
  },
  {
   "cell_type": "code",
   "execution_count": null,
   "id": "70f4f4a5-6160-484a-838b-6e503a1dc54a",
   "metadata": {},
   "outputs": [],
   "source": [
    "# Importing packages\n",
    "library(tidyverse)\n",
    "library(tidymodels)"
   ]
  },
  {
   "cell_type": "markdown",
   "id": "1a468baf-bfd0-4b2f-81ea-16e8bf456689",
   "metadata": {},
   "source": [
    "Our heart disease dataset is a `.csv` file with no headers. The `read_csv` function will be used to load the data, and headers will be added using the `colnames()` function. The data will then be inspected."
   ]
  },
  {
   "cell_type": "code",
   "execution_count": null,
   "id": "7a7f3d1d-102b-4be7-a6e4-9c22a2416582",
   "metadata": {},
   "outputs": [],
   "source": [
    "# Loading and adding headers to the heart disease data\n",
    "heart <- read_csv(\"processed.cleveland.data\")\n",
    "colnames(heart) <- c(\"age\", \"sex\", \"cp\", \"trestbps\", \"chol\", \"fbs\", \"restecg\", \n",
    "                     \"thalach\", \"exang\", \"oldpeak\", \"slope\", \"ca\", \"thal\", \"num\")\n",
    "head(heart)"
   ]
  },
  {
   "cell_type": "markdown",
   "id": "1e0cba98-ea28-49e9-9abf-8ba73cd747f9",
   "metadata": {},
   "source": [
    "### Describing the variables in the heart disease data set\n",
    "\n",
    "Patients experiencing chest pain symptoms, also known as angina, often have a higher probability of being diagnosed with heart disease and are often recommended for coronary angiography. An angiogram involves using x-ray imaging to examine the blood vessels in a person's heart. Its purpose is to assess the condition of these vessels and the circulation of blood within them. At the Cleveland Clinic, 303 patients undergoing coronary angiography had 14 different variables measured.\n",
    "\n",
    "The information gathered included four clinical details: age, sex, type of chest pain, and systolic blood pressure. Non-invasive tests involved drawing blood to measure cholesterol levels and blood sugar, electrocardiograms, in which the electrical activity of the heart is measured, thallium scans, in which a radioactive tracer is used to see how much blood is reaching different parts of your heart, and fluoroscopy for coronary calcium, which is a procedure used to look at calcium in the heart's blood vessels.\n",
    "\n",
    "These variables are described below:\n",
    "\n",
    "1. **age:** age in years\n",
    "2. **sex:** sex of the individual (1 = male; 0 = female)\n",
    "3. **cp:** chest pain type\n",
    "4. **trestbps:** resting blood pressure (in mm Hg on admission to the hospital)\n",
    "5. **chol:** serum cholesterol in mg/dl\n",
    "6. **fbs:** whether fasting blood sugar is greater than 120 mg/dl (1 = true; 0 = false)\n",
    "7. **restecg:** resting electrocardiographic results\n",
    "8. **thalach:** maximum heart rate achieved (in bpm)\n",
    "9. **exang:** exercise induced angina (1 = yes; 0 = no)\n",
    "10. **oldpeak:** ST depression induced by exercise relative to rest\n",
    "11. **slope:** the slope of the peak exercise ST segment\n",
    "12. **ca:** number of major vessels (0-3) colored by flourosopy\n",
    "13. **thal:** thalassemia\n",
    "14. **num:** diagnosis of heart disease (0 = not present; 1, 2, 3, 4 = present)\n",
    "\n",
    "As mentioned in the introduction, we will only be using age, blood pressure, blood cholesterol, and maximum heart rate for our analysis. Thus, we will create a new tibble using these four variables using `select()`."
   ]
  },
  {
   "cell_type": "code",
   "execution_count": null,
   "id": "43535a92-cbce-4833-97b6-053e1fad5756",
   "metadata": {},
   "outputs": [],
   "source": []
  },
  {
   "cell_type": "code",
   "execution_count": null,
   "id": "7557c3fb-b27b-42cd-98db-323bc6638374",
   "metadata": {},
   "outputs": [],
   "source": []
  },
  {
   "cell_type": "markdown",
   "id": "a89872aa-a190-43c8-b855-d86bec380bbc",
   "metadata": {},
   "source": [
    "### Wrangling and cleaning the data"
   ]
  },
  {
   "cell_type": "code",
   "execution_count": null,
   "id": "b67d0910-22bd-4e43-aef6-26acca620f51",
   "metadata": {},
   "outputs": [],
   "source": [
    "# wrangles and cleans the data from it's original (downloaded) format to the format necessary for the planned analysis"
   ]
  },
  {
   "cell_type": "markdown",
   "id": "90a2487a-9907-46e1-917f-65bc517aed2f",
   "metadata": {},
   "source": [
    "### Summary of the data"
   ]
  },
  {
   "cell_type": "code",
   "execution_count": null,
   "id": "d1007f20-bc4e-4fea-a9eb-ea24733f6329",
   "metadata": {},
   "outputs": [],
   "source": [
    "# performs a summary of the data set that is relevant for exploratory data analysis related to the planned analysis"
   ]
  },
  {
   "cell_type": "markdown",
   "id": "bde58548-75ba-4d37-9ba3-b24effab8026",
   "metadata": {},
   "source": [
    "### Splitting the data\n",
    "\n",
    "(explain why it's important to split the data)"
   ]
  },
  {
   "cell_type": "code",
   "execution_count": null,
   "id": "6f53fabc-6353-446b-b2d9-40c22f7a2423",
   "metadata": {},
   "outputs": [],
   "source": [
    "# add code here"
   ]
  },
  {
   "cell_type": "markdown",
   "id": "68eede38-bc88-4a1e-8674-1859b7c2d9c9",
   "metadata": {},
   "source": [
    "### Preliminary data visualization"
   ]
  },
  {
   "cell_type": "code",
   "execution_count": null,
   "id": "7f1709df-b06e-4934-a048-3ab7820bbad7",
   "metadata": {},
   "outputs": [],
   "source": [
    "# create a visualization of the dataset that is relezant for exploratory data analysis related to the planned analysis"
   ]
  },
  {
   "cell_type": "markdown",
   "id": "4c0b1697-2e7a-41a1-a914-c1e9d419684e",
   "metadata": {},
   "source": [
    "### Determining the most suitable $k$ value"
   ]
  },
  {
   "cell_type": "code",
   "execution_count": null,
   "id": "7d15ae4d-af8d-4943-bb80-73df63206402",
   "metadata": {},
   "outputs": [],
   "source": [
    "# add code here"
   ]
  },
  {
   "cell_type": "markdown",
   "id": "41b93577-d342-463e-b337-ca0779346a6a",
   "metadata": {},
   "source": [
    "### Plotting $k$ vs Accuracy"
   ]
  },
  {
   "cell_type": "code",
   "execution_count": null,
   "id": "23f18b56-5651-40c7-9a98-4a16832a38f0",
   "metadata": {},
   "outputs": [],
   "source": [
    "# add code here"
   ]
  },
  {
   "cell_type": "markdown",
   "id": "015ae7ee-afea-4e5d-b1ad-4ebb430b56c2",
   "metadata": {},
   "source": [
    "(explain which k should be used based on plot)"
   ]
  },
  {
   "cell_type": "markdown",
   "id": "02e76e3c-ae17-4460-baad-c3ffa981235d",
   "metadata": {},
   "source": [
    "### Creating a $k$-NN classification model"
   ]
  },
  {
   "cell_type": "code",
   "execution_count": null,
   "id": "360ebaed-61df-498b-8aae-83980d126e4d",
   "metadata": {},
   "outputs": [],
   "source": [
    "# add code here"
   ]
  },
  {
   "cell_type": "markdown",
   "id": "fdaa2ac9-5841-4a68-a457-cb917651ba2e",
   "metadata": {},
   "source": [
    "### Testing the model against another dataset"
   ]
  },
  {
   "cell_type": "code",
   "execution_count": null,
   "id": "9cbf2b0d-3812-476a-9f03-726fc22ae026",
   "metadata": {},
   "outputs": [],
   "source": [
    "# add code here"
   ]
  },
  {
   "cell_type": "markdown",
   "id": "9fdaf39a-de0f-4714-a40f-80495d374b31",
   "metadata": {},
   "source": [
    "## Discussion\n",
    "- summarize what you found\n",
    "- discuss whether this is what you expected to find\n",
    "- discuss what impact could such findings have\n",
    "- discuss what future questions could this lead to"
   ]
  },
  {
   "cell_type": "markdown",
   "id": "a6a54636-46df-46e3-8b6d-f650dfb04c9e",
   "metadata": {
    "jp-MarkdownHeadingCollapsed": true
   },
   "source": [
    "## Conclusions"
   ]
  },
  {
   "cell_type": "markdown",
   "id": "cb2c3be5-48b5-4a3b-b1e7-3409be6c3734",
   "metadata": {},
   "source": [
    "## References"
   ]
  }
 ],
 "metadata": {
  "kernelspec": {
   "display_name": "R",
   "language": "R",
   "name": "ir"
  },
  "language_info": {
   "codemirror_mode": "r",
   "file_extension": ".r",
   "mimetype": "text/x-r-source",
   "name": "R",
   "pygments_lexer": "r",
   "version": "4.3.0"
  }
 },
 "nbformat": 4,
 "nbformat_minor": 5
}

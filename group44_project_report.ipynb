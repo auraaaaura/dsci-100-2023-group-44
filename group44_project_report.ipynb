{
 "cells": [
  {
   "cell_type": "markdown",
   "id": "f95d3751-951f-4ff1-8c14-e8e894ace7b0",
   "metadata": {},
   "source": [
    "# **Classifying coronary artery disease using age, and blood cholesterol, and maximum heart rate.**\n",
    "## **Group Report**\n",
    "\n",
    "#### Zirun Xu, Aura Balita, and Sahil Babani"
   ]
  },
  {
   "cell_type": "markdown",
   "id": "f28b11c6-69ca-4b11-bd45-152e6bbd54e5",
   "metadata": {},
   "source": [
    "## Introduction"
   ]
  },
  {
   "cell_type": "markdown",
   "id": "2f1f251e-bc31-4b71-966e-5252e4a868a9",
   "metadata": {},
   "source": [
    "(insert background info)"
   ]
  },
  {
   "cell_type": "markdown",
   "id": "faec952f-1f4f-41b7-b6f9-c94bc20f7e3e",
   "metadata": {},
   "source": [
    "## Methods\n",
    "\n",
    "(Explain dataset that will be used)\\\n",
    "(Copy and paste variables)\\\n",
    "(Describe the methods and approaches used to collect data)\\\n",
    "* Explain data collection techniques\n",
    "* Explain analytical techinques"
   ]
  },
  {
   "cell_type": "markdown",
   "id": "98b3aeb3-dab3-4108-8ebb-4f13361d9088",
   "metadata": {},
   "source": [
    "## Analysis"
   ]
  },
  {
   "cell_type": "markdown",
   "id": "9e547a29-7a54-4d1b-97ae-a347731db0ef",
   "metadata": {},
   "source": [
    "### Loading the file and exploring the data"
   ]
  },
  {
   "cell_type": "code",
   "execution_count": null,
   "id": "70f4f4a5-6160-484a-838b-6e503a1dc54a",
   "metadata": {},
   "outputs": [],
   "source": [
    "# add code here"
   ]
  },
  {
   "cell_type": "markdown",
   "id": "a89872aa-a190-43c8-b855-d86bec380bbc",
   "metadata": {},
   "source": [
    "### Making the table tidy"
   ]
  },
  {
   "cell_type": "code",
   "execution_count": 2,
   "id": "b67d0910-22bd-4e43-aef6-26acca620f51",
   "metadata": {},
   "outputs": [],
   "source": [
    "# add code here"
   ]
  },
  {
   "cell_type": "markdown",
   "id": "bde58548-75ba-4d37-9ba3-b24effab8026",
   "metadata": {},
   "source": [
    "### Splitting the data\n",
    "\n",
    "(explain why it's important to split the data)"
   ]
  },
  {
   "cell_type": "code",
   "execution_count": 3,
   "id": "6f53fabc-6353-446b-b2d9-40c22f7a2423",
   "metadata": {},
   "outputs": [],
   "source": [
    "# add code here"
   ]
  },
  {
   "cell_type": "markdown",
   "id": "4c0b1697-2e7a-41a1-a914-c1e9d419684e",
   "metadata": {},
   "source": [
    "### Determining the most suitable $k$ value"
   ]
  },
  {
   "cell_type": "code",
   "execution_count": 4,
   "id": "7d15ae4d-af8d-4943-bb80-73df63206402",
   "metadata": {},
   "outputs": [],
   "source": [
    "# add code here"
   ]
  },
  {
   "cell_type": "markdown",
   "id": "41b93577-d342-463e-b337-ca0779346a6a",
   "metadata": {},
   "source": [
    "### Plotting $k$ vs Accuracy"
   ]
  },
  {
   "cell_type": "code",
   "execution_count": 5,
   "id": "23f18b56-5651-40c7-9a98-4a16832a38f0",
   "metadata": {},
   "outputs": [],
   "source": [
    "# add code here"
   ]
  },
  {
   "cell_type": "markdown",
   "id": "015ae7ee-afea-4e5d-b1ad-4ebb430b56c2",
   "metadata": {},
   "source": [
    "(explain which k should be used based on plot)"
   ]
  },
  {
   "cell_type": "markdown",
   "id": "02e76e3c-ae17-4460-baad-c3ffa981235d",
   "metadata": {},
   "source": [
    "### Creating a $k$-NN classification model"
   ]
  },
  {
   "cell_type": "code",
   "execution_count": null,
   "id": "360ebaed-61df-498b-8aae-83980d126e4d",
   "metadata": {},
   "outputs": [],
   "source": [
    "# add code here"
   ]
  },
  {
   "cell_type": "markdown",
   "id": "fdaa2ac9-5841-4a68-a457-cb917651ba2e",
   "metadata": {},
   "source": [
    "### Testing the model against another dataset"
   ]
  },
  {
   "cell_type": "code",
   "execution_count": null,
   "id": "9cbf2b0d-3812-476a-9f03-726fc22ae026",
   "metadata": {},
   "outputs": [],
   "source": [
    "# add code here"
   ]
  },
  {
   "cell_type": "markdown",
   "id": "9fdaf39a-de0f-4714-a40f-80495d374b31",
   "metadata": {},
   "source": [
    "## Discussion"
   ]
  },
  {
   "cell_type": "code",
   "execution_count": null,
   "id": "07d4031e-7cea-4148-88c6-c655f8e24c22",
   "metadata": {},
   "outputs": [],
   "source": []
  },
  {
   "cell_type": "markdown",
   "id": "a6a54636-46df-46e3-8b6d-f650dfb04c9e",
   "metadata": {},
   "source": [
    "## Conclusions"
   ]
  },
  {
   "cell_type": "markdown",
   "id": "cb2c3be5-48b5-4a3b-b1e7-3409be6c3734",
   "metadata": {},
   "source": [
    "## Bibliography"
   ]
  },
  {
   "cell_type": "code",
   "execution_count": null,
   "id": "ee7aa9c4-5ad1-41b5-9082-882b4afcc8f9",
   "metadata": {},
   "outputs": [],
   "source": []
  }
 ],
 "metadata": {
  "kernelspec": {
   "display_name": "R",
   "language": "R",
   "name": "ir"
  },
  "language_info": {
   "codemirror_mode": "r",
   "file_extension": ".r",
   "mimetype": "text/x-r-source",
   "name": "R",
   "pygments_lexer": "r",
   "version": "4.3.0"
  }
 },
 "nbformat": 4,
 "nbformat_minor": 5
}
